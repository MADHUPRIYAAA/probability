{
  "nbformat": 4,
  "nbformat_minor": 0,
  "metadata": {
    "colab": {
      "provenance": [],
      "authorship_tag": "ABX9TyOtg67lc4TKvoc8Tob/XWQJ",
      "include_colab_link": true
    },
    "kernelspec": {
      "name": "python3",
      "display_name": "Python 3"
    },
    "language_info": {
      "name": "python"
    }
  },
  "cells": [
    {
      "cell_type": "markdown",
      "metadata": {
        "id": "view-in-github",
        "colab_type": "text"
      },
      "source": [
        "<a href=\"https://colab.research.google.com/github/MADHUPRIYAAA/probability/blob/main/week%206.ipynb\" target=\"_parent\"><img src=\"https://colab.research.google.com/assets/colab-badge.svg\" alt=\"Open In Colab\"/></a>"
      ]
    },
    {
      "cell_type": "code",
      "execution_count": 1,
      "metadata": {
        "colab": {
          "base_uri": "https://localhost:8080/"
        },
        "id": "Z2NuN_3fFcLY",
        "outputId": "ee66f4e8-fc65-4a57-d3fe-d3173de4635d"
      },
      "outputs": [
        {
          "output_type": "stream",
          "name": "stdout",
          "text": [
            "Sample Mean: ₹349.60\n",
            "Sample Standard Deviation: ₹7.24\n"
          ]
        }
      ],
      "source": [
        "import numpy as np\n",
        "\n",
        "# Sample data\n",
        "fares = [345, 355, 360, 340, 352, 338, 355, 347, 358, 349, 353, 340, 359, 343, 350]\n",
        "\n",
        "# Compute sample mean\n",
        "sample_mean = np.mean(fares)\n",
        "\n",
        "# Compute sample standard deviation (ddof=1 for sample standard deviation)\n",
        "sample_std_dev = np.std(fares, ddof=1)\n",
        "\n",
        "print(f\"Sample Mean: ₹{sample_mean:.2f}\")\n",
        "print(f\"Sample Standard Deviation: ₹{sample_std_dev:.2f}\")\n"
      ]
    },
    {
      "cell_type": "code",
      "source": [
        "from scipy.stats import t\n",
        "\n",
        "# Sample size\n",
        "n = len(fares)\n",
        "\n",
        "# Critical value for 95% confidence level (two-tailed)\n",
        "t_critical = t.ppf(0.975, df=n-1)\n",
        "\n",
        "# Calculate the margin of error\n",
        "margin_of_error = t_critical * (sample_std_dev / np.sqrt(n))\n",
        "\n",
        "# Calculate the confidence interval\n",
        "confidence_interval = (sample_mean - margin_of_error, sample_mean + margin_of_error)\n",
        "\n",
        "print(f\"95% Confidence Interval: ₹{confidence_interval[0]:.2f} to ₹{confidence_interval[1]:.2f}\")\n"
      ],
      "metadata": {
        "colab": {
          "base_uri": "https://localhost:8080/"
        },
        "id": "BrDXN5tbFi0i",
        "outputId": "dbf64133-0f53-4e10-cf52-e1cdf06493d8"
      },
      "execution_count": 2,
      "outputs": [
        {
          "output_type": "stream",
          "name": "stdout",
          "text": [
            "95% Confidence Interval: ₹345.59 to ₹353.61\n"
          ]
        }
      ]
    },
    {
      "cell_type": "code",
      "source": [
        "import numpy as np\n",
        "from scipy.stats import t\n",
        "\n",
        "# Sample data\n",
        "fares = [345, 355, 360, 340, 352, 338, 355, 347, 358, 349, 353, 340, 359, 343, 350]\n",
        "\n",
        "# Compute sample mean\n",
        "sample_mean = np.mean(fares)\n",
        "\n",
        "# Compute sample standard deviation (ddof=1 for sample standard deviation)\n",
        "sample_std_dev = np.std(fares, ddof=1)\n",
        "\n",
        "# Sample size\n",
        "n = len(fares)\n",
        "\n",
        "# Critical value for 95% confidence level (two-tailed)\n",
        "t_critical = t.ppf(0.975, df=n-1)\n",
        "\n",
        "# Calculate the margin of error\n",
        "margin_of_error = t_critical * (sample_std_dev / np.sqrt(n))\n",
        "\n",
        "# Calculate the confidence interval\n",
        "confidence_interval = (sample_mean - margin_of_error, sample_mean + margin_of_error)\n",
        "\n",
        "# Results\n",
        "print(f\"Sample Mean: ₹{sample_mean:.2f}\")\n",
        "print(f\"Sample Standard Deviation: ₹{sample_std_dev:.2f}\")\n",
        "print(f\"95% Confidence Interval: ₹{confidence_interval[0]:.2f} to ₹{confidence_interval[1]:.2f}\")\n",
        "\n",
        "# Check if ₹350 is within the confidence interval\n",
        "if 350 >= confidence_interval[0] and 350 <= confidence_interval[1]:\n",
        "    print(\"Fail to reject the null hypothesis: The average fare is not significantly different from ₹350.\")\n",
        "else:\n",
        "    print(\"Reject the null hypothesis: The average fare is significantly different from ₹350.\")\n"
      ],
      "metadata": {
        "colab": {
          "base_uri": "https://localhost:8080/"
        },
        "id": "xLswjvRIFmga",
        "outputId": "fb543e5a-0ff1-4b8b-f845-a00d5ba69f02"
      },
      "execution_count": 3,
      "outputs": [
        {
          "output_type": "stream",
          "name": "stdout",
          "text": [
            "Sample Mean: ₹349.60\n",
            "Sample Standard Deviation: ₹7.24\n",
            "95% Confidence Interval: ₹345.59 to ₹353.61\n",
            "Fail to reject the null hypothesis: The average fare is not significantly different from ₹350.\n"
          ]
        }
      ]
    }
  ]
}